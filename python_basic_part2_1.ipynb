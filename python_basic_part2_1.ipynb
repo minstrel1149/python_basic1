{
 "cells": [
  {
   "cell_type": "code",
   "execution_count": 21,
   "metadata": {},
   "outputs": [
    {
     "name": "stdout",
     "output_type": "stream",
     "text": [
      "\n",
      "Here is a list of the Python keywords.  Enter any keyword to get more help.\n",
      "\n",
      "False               break               for                 not\n",
      "None                class               from                or\n",
      "True                continue            global              pass\n",
      "__peg_parser__      def                 if                  raise\n",
      "and                 del                 import              return\n",
      "as                  elif                in                  try\n",
      "assert              else                is                  while\n",
      "async               except              lambda              with\n",
      "await               finally             nonlocal            yield\n",
      "\n"
     ]
    }
   ],
   "source": [
    "import math\n",
    "import numpy as np\n",
    "from fractions import Fraction\n",
    "import string\n",
    "# 파이썬의 예약어를 확인하기 위한 수단\n",
    "help('keywords')"
   ]
  },
  {
   "cell_type": "code",
   "execution_count": 3,
   "metadata": {},
   "outputs": [
    {
     "data": {
      "text/plain": [
       "(False, True)"
      ]
     },
     "execution_count": 3,
     "metadata": {},
     "output_type": "execute_result"
    }
   ],
   "source": [
    "# 논리 연산자의 우선 순위 : not > and > or\n",
    "False or not True and True, False and not True or True\n",
    "# 숫자 연산 우선순위 : () > ** > */ > +-"
   ]
  },
  {
   "cell_type": "code",
   "execution_count": 17,
   "metadata": {},
   "outputs": [
    {
     "data": {
      "text/plain": [
       "(12, (1, 6), 8, 3, 3.6)"
      ]
     },
     "execution_count": 17,
     "metadata": {},
     "output_type": "execute_result"
    }
   ],
   "source": [
    "# pow(x, y, z) == (x ** y) % z\n",
    "# np.ceil(), np.floor()를 통해 올림, 반올림 계산(math.ceil() 등도 가능)\n",
    "abs(-12), divmod(13, 7), pow(2, 3), pow(2, 3, 5), np.ceil(3.53 * 10) / 10"
   ]
  },
  {
   "cell_type": "code",
   "execution_count": 20,
   "metadata": {},
   "outputs": [
    {
     "name": "stdout",
     "output_type": "stream",
     "text": [
      "4/3\n"
     ]
    }
   ],
   "source": [
    "# 분수는 from fractions import Fraction 활용\n",
    "print(Fraction(8, 6))"
   ]
  },
  {
   "cell_type": "code",
   "execution_count": 22,
   "metadata": {},
   "outputs": [
    {
     "data": {
      "text/plain": [
       "' \\t\\n\\r\\x0b\\x0c'"
      ]
     },
     "execution_count": 22,
     "metadata": {},
     "output_type": "execute_result"
    }
   ],
   "source": [
    "# string 모듈 활용해 whitespace 확인\n",
    "string.whitespace"
   ]
  },
  {
   "cell_type": "code",
   "execution_count": 25,
   "metadata": {},
   "outputs": [
    {
     "data": {
      "text/plain": [
       "'miK awheaT si eman yM'"
      ]
     },
     "execution_count": 25,
     "metadata": {},
     "output_type": "execute_result"
    }
   ],
   "source": [
    "# slicing 거꾸로 하기 → 첫 n 글자를 빼고 거꾸로 출력\n",
    "s = 'Hi, My name is Taehwa Kim'\n",
    "s[:3:-1]"
   ]
  },
  {
   "cell_type": "code",
   "execution_count": 27,
   "metadata": {},
   "outputs": [
    {
     "data": {
      "text/plain": [
       "(['Hi,', 'My', 'name', 'is', 'Taehwa', 'Kim'],\n",
       " ['Hi,', 'My', 'name is Taehwa Kim'])"
      ]
     },
     "execution_count": 27,
     "metadata": {},
     "output_type": "execute_result"
    }
   ],
   "source": [
    "# 자주 쓰는 문자열 메서드\n",
    "# s.split(sep=None, maxsplit=-1) ↔ ', '.join(iterable)\n",
    "# s.splitlines() : 줄 경계 문자를 기준으로 문자열을 분리하여 리스트로 반환\n",
    "# → keepends=True 인자를 전달하지 않는 한 줄 경계 문자는 분리한 문자열에 미포함\n",
    "s.split(), s.split(maxsplit=2)"
   ]
  },
  {
   "cell_type": "code",
   "execution_count": 28,
   "metadata": {},
   "outputs": [
    {
     "data": {
      "text/plain": [
       "'ht way to Pyth'"
      ]
     },
     "execution_count": 28,
     "metadata": {},
     "output_type": "execute_result"
    }
   ],
   "source": [
    "# s.strip([삭제할 문자 세트]) → 보통 s.strip() 형태로 공백 제거\n",
    "eng = 'Right way to Python'\n",
    "# 삭제할 문자 세트에 포함하지 않은 문자에 도달하면 삭제 중단\n",
    "eng.strip('goPniR')"
   ]
  },
  {
   "cell_type": "code",
   "execution_count": 30,
   "metadata": {},
   "outputs": [
    {
     "data": {
      "text/plain": [
       "'**Hi, My name is Taehwa Kim***'"
      ]
     },
     "execution_count": 30,
     "metadata": {},
     "output_type": "execute_result"
    }
   ],
   "source": [
    "# s.replace(기존, 신규, [, 교체횟수])\n",
    "# s.center(폭, [, 채움문자(반드시 하나의 문자)]) → s.ljust(), s.rjust()도 가능\n",
    "s.center(30, '*')"
   ]
  },
  {
   "cell_type": "code",
   "execution_count": 31,
   "metadata": {},
   "outputs": [
    {
     "data": {
      "text/plain": [
       "('Hi', ',', ' My name is Taehwa Kim')"
      ]
     },
     "execution_count": 31,
     "metadata": {},
     "output_type": "execute_result"
    }
   ],
   "source": [
    "# s.partition(구분자) : 문자열을 삼등분해서 3-tuple(구분자 이전, 구분자, 구분자 이후) 형태로 반환\n",
    "# 찾는 구분자가 문자열에 없다면 문자열 전체와 빈 문자열 두개를 3-tuple로 반환\n",
    "s.partition(',')"
   ]
  },
  {
   "cell_type": "code",
   "execution_count": 32,
   "metadata": {},
   "outputs": [
    {
     "data": {
      "text/plain": [
       "3"
      ]
     },
     "execution_count": 32,
     "metadata": {},
     "output_type": "execute_result"
    }
   ],
   "source": [
    "# s.count(부분 문자열[, 시작 인덱스[, 끝 인덱스]]) : 부분 문자열과 일치하는 내용 개수 반환\n",
    "s.count('i')"
   ]
  },
  {
   "cell_type": "code",
   "execution_count": 33,
   "metadata": {},
   "outputs": [
    {
     "data": {
      "text/plain": [
       "15"
      ]
     },
     "execution_count": 33,
     "metadata": {},
     "output_type": "execute_result"
    }
   ],
   "source": [
    "# s.find(부분 문자열[, 시작 인덱스[, 끝 인덱스]]) : 부분 문자열이 처음 나온 위치 가장 낮은 인덱스 번호 반환\n",
    "# 반환하는 위치 값은 문자열의 절대위치 / 부분 문자열이 미존재할 경우 -1 반환\n",
    "# s.index(부분 문자열[, 시작 인덱스[, 끝 인덱스]]) : s.find()와 동일하나, 없을 경우 ValueError 발생\n",
    "# s.index()는 리스트 등에서도 활용 가능\n",
    "s.index('Taehwa')"
   ]
  },
  {
   "cell_type": "code",
   "execution_count": 34,
   "metadata": {},
   "outputs": [
    {
     "data": {
      "text/plain": [
       "True"
      ]
     },
     "execution_count": 34,
     "metadata": {},
     "output_type": "execute_result"
    }
   ],
   "source": [
    "# s.startswith(접두문자열[, 시작 인덱스[, 끝 인덱스]]) : 접두문자열로 시작하는지 여부에 따라 True, False 반환\n",
    "# s.endswith(접미문자열[, 시작 인덱스[, 끝 인덱스]]) : 접미문자열로 끝나는지 여부에 따라 True, False 반환\n",
    "s.endswith('Kim')"
   ]
  },
  {
   "cell_type": "code",
   "execution_count": 37,
   "metadata": {},
   "outputs": [
    {
     "data": {
      "text/plain": [
       "('Hi, my name is taehwa kim',\n",
       " 'hI, mY NAME IS tAEHWA kIM',\n",
       " 'Hi, My Name Is Taehwa Kim')"
      ]
     },
     "execution_count": 37,
     "metadata": {},
     "output_type": "execute_result"
    }
   ],
   "source": [
    "# s.title(), s.capitalize(), s.swapcase(), s.lower(), s.upper()를 통해 문자열 대/소문자 컨트롤 가능\n",
    "# s.title()은 단어 시작을 대문자로, s.capitalize()은 문자열 전체에서 시작을 대문자로\n",
    "s.capitalize(), s.swapcase(), s.title()"
   ]
  },
  {
   "cell_type": "code",
   "execution_count": 48,
   "metadata": {},
   "outputs": [
    {
     "data": {
      "text/plain": [
       "'219,845,645.23%'"
      ]
     },
     "execution_count": 48,
     "metadata": {},
     "output_type": "execute_result"
    }
   ],
   "source": [
    "# 문자열 서식 설정(format, f-string의 경우)\n",
    "# {필드명!형식변환:서식명세} 형태로 가능\n",
    "# 형식변환의 경우 필드명 뒤에 !s(텍스트 형식), !r(대표 형식) 등으로 지정 가능\n",
    "# 서식명세의 경우 필드명 뒤에 {:}형태로 지정 가능\n",
    "# → {:채움문자 정렬 음양기호 # 0 폭 , .길이 형식}를 일반 형식으로 가짐\n",
    "# 정렬에는 <, >, ^, = 중 하나가 오는 형식\n",
    "# 음양기호에는 +, -, 공백문자가 오는 형식\n",
    "# #은 숫자에만 적용되며, #b는 2진법, #o는 8진법, #x는 16진법\n",
    "# 0은 숫자에만 적용되며, 0으로 패딩하는 형태\n",
    "# 폭은 문자열의 최소 길이를 설정\n",
    "# ,는 숫자에만 적용되며, 숫자를 3자리 쉼표로 분리시켜 표시\n",
    "# .길이는 숫자의 경우 소수점 자릿수를 길이 만큼 설정\n",
    "# 형식 중 f는 실수를 부동소수점 형식으로 표시, %는 백분율 퍼센트 형식으로 표시\n",
    "number = 2198456.45234\n",
    "f'{number:,.2%}'"
   ]
  },
  {
   "cell_type": "code",
   "execution_count": null,
   "metadata": {},
   "outputs": [],
   "source": []
  }
 ],
 "metadata": {
  "kernelspec": {
   "display_name": "Python 3.9.12 ('base')",
   "language": "python",
   "name": "python3"
  },
  "language_info": {
   "codemirror_mode": {
    "name": "ipython",
    "version": 3
   },
   "file_extension": ".py",
   "mimetype": "text/x-python",
   "name": "python",
   "nbconvert_exporter": "python",
   "pygments_lexer": "ipython3",
   "version": "3.9.12"
  },
  "orig_nbformat": 4,
  "vscode": {
   "interpreter": {
    "hash": "610a6f344c2137faf927ea819c63f6cee33a2c04455044b28099f39fe9722347"
   }
  }
 },
 "nbformat": 4,
 "nbformat_minor": 2
}

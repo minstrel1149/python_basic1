{
 "cells": [
  {
   "cell_type": "code",
   "execution_count": 101,
   "metadata": {},
   "outputs": [
    {
     "name": "stdout",
     "output_type": "stream",
     "text": [
      "\n",
      "Here is a list of the Python keywords.  Enter any keyword to get more help.\n",
      "\n",
      "False               break               for                 not\n",
      "None                class               from                or\n",
      "True                continue            global              pass\n",
      "__peg_parser__      def                 if                  raise\n",
      "and                 del                 import              return\n",
      "as                  elif                in                  try\n",
      "assert              else                is                  while\n",
      "async               except              lambda              with\n",
      "await               finally             nonlocal            yield\n",
      "\n"
     ]
    }
   ],
   "source": [
    "import math\n",
    "import numpy as np\n",
    "from fractions import Fraction\n",
    "import string\n",
    "import copy\n",
    "import random\n",
    "# 파이썬의 예약어를 확인하기 위한 수단\n",
    "help('keywords')"
   ]
  },
  {
   "cell_type": "code",
   "execution_count": 3,
   "metadata": {},
   "outputs": [
    {
     "data": {
      "text/plain": [
       "(False, True)"
      ]
     },
     "execution_count": 3,
     "metadata": {},
     "output_type": "execute_result"
    }
   ],
   "source": [
    "# 논리 연산자의 우선 순위 : not > and > or\n",
    "False or not True and True, False and not True or True\n",
    "# 숫자 연산 우선순위 : () > ** > */ > +-"
   ]
  },
  {
   "cell_type": "code",
   "execution_count": 17,
   "metadata": {},
   "outputs": [
    {
     "data": {
      "text/plain": [
       "(12, (1, 6), 8, 3, 3.6)"
      ]
     },
     "execution_count": 17,
     "metadata": {},
     "output_type": "execute_result"
    }
   ],
   "source": [
    "# pow(x, y, z) == (x ** y) % z\n",
    "# np.ceil(), np.floor()를 통해 올림, 반올림 계산(math.ceil() 등도 가능)\n",
    "abs(-12), divmod(13, 7), pow(2, 3), pow(2, 3, 5), np.ceil(3.53 * 10) / 10"
   ]
  },
  {
   "cell_type": "code",
   "execution_count": 20,
   "metadata": {},
   "outputs": [
    {
     "name": "stdout",
     "output_type": "stream",
     "text": [
      "4/3\n"
     ]
    }
   ],
   "source": [
    "# 분수는 from fractions import Fraction 활용\n",
    "print(Fraction(8, 6))"
   ]
  },
  {
   "cell_type": "code",
   "execution_count": 22,
   "metadata": {},
   "outputs": [
    {
     "data": {
      "text/plain": [
       "' \\t\\n\\r\\x0b\\x0c'"
      ]
     },
     "execution_count": 22,
     "metadata": {},
     "output_type": "execute_result"
    }
   ],
   "source": [
    "# string 모듈 활용해 whitespace 확인\n",
    "string.whitespace"
   ]
  },
  {
   "cell_type": "code",
   "execution_count": 25,
   "metadata": {},
   "outputs": [
    {
     "data": {
      "text/plain": [
       "'miK awheaT si eman yM'"
      ]
     },
     "execution_count": 25,
     "metadata": {},
     "output_type": "execute_result"
    }
   ],
   "source": [
    "# slicing 거꾸로 하기 → 첫 n 글자를 빼고 거꾸로 출력\n",
    "s = 'Hi, My name is Taehwa Kim'\n",
    "s[:3:-1]"
   ]
  },
  {
   "cell_type": "code",
   "execution_count": 27,
   "metadata": {},
   "outputs": [
    {
     "data": {
      "text/plain": [
       "(['Hi,', 'My', 'name', 'is', 'Taehwa', 'Kim'],\n",
       " ['Hi,', 'My', 'name is Taehwa Kim'])"
      ]
     },
     "execution_count": 27,
     "metadata": {},
     "output_type": "execute_result"
    }
   ],
   "source": [
    "# 자주 쓰는 문자열 메서드\n",
    "# s.split(sep=None, maxsplit=-1) ↔ ', '.join(iterable)\n",
    "# s.splitlines() : 줄 경계 문자를 기준으로 문자열을 분리하여 리스트로 반환\n",
    "# → keepends=True 인자를 전달하지 않는 한 줄 경계 문자는 분리한 문자열에 미포함\n",
    "s.split(), s.split(maxsplit=2)"
   ]
  },
  {
   "cell_type": "code",
   "execution_count": 28,
   "metadata": {},
   "outputs": [
    {
     "data": {
      "text/plain": [
       "'ht way to Pyth'"
      ]
     },
     "execution_count": 28,
     "metadata": {},
     "output_type": "execute_result"
    }
   ],
   "source": [
    "# s.strip([삭제할 문자 세트]) → 보통 s.strip() 형태로 공백 제거\n",
    "eng = 'Right way to Python'\n",
    "# 삭제할 문자 세트에 포함하지 않은 문자에 도달하면 삭제 중단\n",
    "eng.strip('goPniR')"
   ]
  },
  {
   "cell_type": "code",
   "execution_count": 30,
   "metadata": {},
   "outputs": [
    {
     "data": {
      "text/plain": [
       "'**Hi, My name is Taehwa Kim***'"
      ]
     },
     "execution_count": 30,
     "metadata": {},
     "output_type": "execute_result"
    }
   ],
   "source": [
    "# s.replace(기존, 신규, [, 교체횟수])\n",
    "# s.center(폭, [, 채움문자(반드시 하나의 문자)]) → s.ljust(), s.rjust()도 가능\n",
    "s.center(30, '*')"
   ]
  },
  {
   "cell_type": "code",
   "execution_count": 31,
   "metadata": {},
   "outputs": [
    {
     "data": {
      "text/plain": [
       "('Hi', ',', ' My name is Taehwa Kim')"
      ]
     },
     "execution_count": 31,
     "metadata": {},
     "output_type": "execute_result"
    }
   ],
   "source": [
    "# s.partition(구분자) : 문자열을 삼등분해서 3-tuple(구분자 이전, 구분자, 구분자 이후) 형태로 반환\n",
    "# 찾는 구분자가 문자열에 없다면 문자열 전체와 빈 문자열 두개를 3-tuple로 반환\n",
    "s.partition(',')"
   ]
  },
  {
   "cell_type": "code",
   "execution_count": 32,
   "metadata": {},
   "outputs": [
    {
     "data": {
      "text/plain": [
       "3"
      ]
     },
     "execution_count": 32,
     "metadata": {},
     "output_type": "execute_result"
    }
   ],
   "source": [
    "# s.count(부분 문자열[, 시작 인덱스[, 끝 인덱스]]) : 부분 문자열과 일치하는 내용 개수 반환\n",
    "s.count('i')"
   ]
  },
  {
   "cell_type": "code",
   "execution_count": 33,
   "metadata": {},
   "outputs": [
    {
     "data": {
      "text/plain": [
       "15"
      ]
     },
     "execution_count": 33,
     "metadata": {},
     "output_type": "execute_result"
    }
   ],
   "source": [
    "# s.find(부분 문자열[, 시작 인덱스[, 끝 인덱스]]) : 부분 문자열이 처음 나온 위치 가장 낮은 인덱스 번호 반환\n",
    "# 반환하는 위치 값은 문자열의 절대위치 / 부분 문자열이 미존재할 경우 -1 반환\n",
    "# s.index(부분 문자열[, 시작 인덱스[, 끝 인덱스]]) : s.find()와 동일하나, 없을 경우 ValueError 발생\n",
    "# s.index()는 리스트 등에서도 활용 가능\n",
    "s.index('Taehwa')"
   ]
  },
  {
   "cell_type": "code",
   "execution_count": 34,
   "metadata": {},
   "outputs": [
    {
     "data": {
      "text/plain": [
       "True"
      ]
     },
     "execution_count": 34,
     "metadata": {},
     "output_type": "execute_result"
    }
   ],
   "source": [
    "# s.startswith(접두문자열[, 시작 인덱스[, 끝 인덱스]]) : 접두문자열로 시작하는지 여부에 따라 True, False 반환\n",
    "# s.endswith(접미문자열[, 시작 인덱스[, 끝 인덱스]]) : 접미문자열로 끝나는지 여부에 따라 True, False 반환\n",
    "s.endswith('Kim')"
   ]
  },
  {
   "cell_type": "code",
   "execution_count": 37,
   "metadata": {},
   "outputs": [
    {
     "data": {
      "text/plain": [
       "('Hi, my name is taehwa kim',\n",
       " 'hI, mY NAME IS tAEHWA kIM',\n",
       " 'Hi, My Name Is Taehwa Kim')"
      ]
     },
     "execution_count": 37,
     "metadata": {},
     "output_type": "execute_result"
    }
   ],
   "source": [
    "# s.title(), s.capitalize(), s.swapcase(), s.lower(), s.upper()를 통해 문자열 대/소문자 컨트롤 가능\n",
    "# s.title()은 단어 시작을 대문자로, s.capitalize()은 문자열 전체에서 시작을 대문자로\n",
    "s.capitalize(), s.swapcase(), s.title()"
   ]
  },
  {
   "cell_type": "code",
   "execution_count": 48,
   "metadata": {},
   "outputs": [
    {
     "data": {
      "text/plain": [
       "'219,845,645.23%'"
      ]
     },
     "execution_count": 48,
     "metadata": {},
     "output_type": "execute_result"
    }
   ],
   "source": [
    "# 문자열 서식 설정(format, f-string의 경우)\n",
    "# {필드명!형식변환:서식명세} 형태로 가능\n",
    "# 형식변환의 경우 필드명 뒤에 !s(텍스트 형식), !r(대표 형식) 등으로 지정 가능\n",
    "# 서식명세의 경우 필드명 뒤에 {:}형태로 지정 가능\n",
    "# → {:채움문자 정렬 음양기호 # 0 폭 , .길이 형식}를 일반 형식으로 가짐\n",
    "# 정렬에는 <, >, ^, = 중 하나가 오는 형식\n",
    "# 음양기호에는 +, -, 공백문자가 오는 형식\n",
    "# #은 숫자에만 적용되며, #b는 2진법, #o는 8진법, #x는 16진법\n",
    "# 0은 숫자에만 적용되며, 0으로 패딩하는 형태\n",
    "# 폭은 문자열의 최소 길이를 설정\n",
    "# ,는 숫자에만 적용되며, 숫자를 3자리 쉼표로 분리시켜 표시\n",
    "# .길이는 숫자의 경우 소수점 자릿수를 길이 만큼 설정\n",
    "# 형식 중 f는 실수를 부동소수점 형식으로 표시, %는 백분율 퍼센트 형식으로 표시\n",
    "number = 2198456.45234\n",
    "f'{number:,.2%}'"
   ]
  },
  {
   "cell_type": "code",
   "execution_count": 51,
   "metadata": {},
   "outputs": [
    {
     "data": {
      "text/plain": [
       "[1, 'a', 'b', 3, 4, 5, 6]"
      ]
     },
     "execution_count": 51,
     "metadata": {},
     "output_type": "execute_result"
    }
   ],
   "source": [
    "# 리스트 관련 연산자 : +, *, +=(extend), del, in/not in 연산자\n",
    "# 리스트 내 객체 교체 시 슬라이싱 교체와 인덱스 교체 차이점을 고려해야\n",
    "list_x = [1, 2, 3, 4]\n",
    "list_x += [5, 6]\n",
    "list_x[1:2] = ['a', 'b']\n",
    "list_x"
   ]
  },
  {
   "cell_type": "code",
   "execution_count": 58,
   "metadata": {},
   "outputs": [
    {
     "data": {
      "text/plain": [
       "([1, 'a', 'b', 3, 4, 5, 6], False)"
      ]
     },
     "execution_count": 58,
     "metadata": {},
     "output_type": "execute_result"
    }
   ],
   "source": [
    "# copy 모듈의 deepcopy()함수를 통해 깊은 복사 가능 → copy() 메서드의 얕은 복사와 구분\n",
    "copy.deepcopy(list_x), copy.deepcopy(list_x) is list_x.copy()"
   ]
  },
  {
   "cell_type": "code",
   "execution_count": 59,
   "metadata": {},
   "outputs": [
    {
     "data": {
      "text/plain": [
       "(3, [1, 'a', 'b', 4, 5, 6])"
      ]
     },
     "execution_count": 59,
     "metadata": {},
     "output_type": "execute_result"
    }
   ],
   "source": [
    "# 추가의 경우 append(), insert(), extend() 메서드 활용\n",
    "# 삭제의 경우 pop(인덱스 번호), remove(객체) 메서드 활용\n",
    "# pop()은 삭제할 객체 반환, remove()는 객체 미반환\n",
    "del_item = list_x.pop(3)\n",
    "del_item, list_x"
   ]
  },
  {
   "cell_type": "code",
   "execution_count": 62,
   "metadata": {},
   "outputs": [
    {
     "name": "stdout",
     "output_type": "stream",
     "text": [
      "리스트에 비교할 수 없는 객체가 있습니다.\n"
     ]
    }
   ],
   "source": [
    "# 정렬의 경우 reverse(), sort() 메서드 등 활용 가능\n",
    "# 단, sort() 메서드의 경우 비교할 수 있는 상태에서만 정렬 가능\n",
    "# sorted(x) 함수와의 차이 구분 필요 → sorted(x)는 x 자체는 미변경\n",
    "try:\n",
    "    list_x.sort(reverse=True)\n",
    "except TypeError:\n",
    "    print('리스트에 비교할 수 없는 객체가 있습니다.')"
   ]
  },
  {
   "cell_type": "code",
   "execution_count": 64,
   "metadata": {},
   "outputs": [
    {
     "data": {
      "text/plain": [
       "(1, 3)"
      ]
     },
     "execution_count": 64,
     "metadata": {},
     "output_type": "execute_result"
    }
   ],
   "source": [
    "# 튜플 할당의 경우 우변의 불필요한 객체 값을 좌변에서 더미변수(_)로 받아 처리 가능\n",
    "# 튜플 패킹 및 언패킹에서도 더미변수 활용 가능\n",
    "tuple_ex = 1, 2, 3\n",
    "x, _, y = tuple_ex\n",
    "x, y"
   ]
  },
  {
   "cell_type": "code",
   "execution_count": 65,
   "metadata": {},
   "outputs": [
    {
     "data": {
      "text/plain": [
       "(1, [2, 3])"
      ]
     },
     "execution_count": 65,
     "metadata": {},
     "output_type": "execute_result"
    }
   ],
   "source": [
    "# 시퀀스형 패킹 및 언패킹 연산자 * 활용 가능 → 패킹한 *y의 자료형은 리스트\n",
    "x, *y = tuple_ex\n",
    "x, y"
   ]
  },
  {
   "cell_type": "code",
   "execution_count": 66,
   "metadata": {},
   "outputs": [],
   "source": [
    "# 리스트 대신 튜플을 사용하는 경우\n",
    "# → 처리 속도 향상, 값이 변하지 않아야 하는 경우(딕셔너리 키 등), 간단한 구문 사용 등"
   ]
  },
  {
   "cell_type": "code",
   "execution_count": 69,
   "metadata": {},
   "outputs": [
    {
     "data": {
      "text/plain": [
       "({'drum': '드럼', 'guitar': '기타', 'bass': '베이스'}, '드럼')"
      ]
     },
     "execution_count": 69,
     "metadata": {},
     "output_type": "execute_result"
    }
   ],
   "source": [
    "# 딕셔너리는 객체의 순서가 없다 → 인덱스 활용 불가능, 슬라이싱도 불가능\n",
    "# 딕셔너리 키는 중복이 불가능하나, 매핑 값은 중복 가능\n",
    "# 순회형 전달인자를 사용하여 딕셔너리 생성도 가능 → 흔히 쓰는 zip()함수의 활용\n",
    "dict1 = dict(zip(['drum', 'guitar', 'bass'], ['드럼', '기타', '베이스']))\n",
    "dict1, dict1['drum']"
   ]
  },
  {
   "cell_type": "code",
   "execution_count": 73,
   "metadata": {},
   "outputs": [
    {
     "data": {
      "text/plain": [
       "{'drum': '드럼', 'guitar': '기타', 'bass': '베이스', 'piano': '피아노'}"
      ]
     },
     "execution_count": 73,
     "metadata": {},
     "output_type": "execute_result"
    }
   ],
   "source": [
    "# 딕셔너리의 키를 활용하여 값을 변경하거나, 혹은 새로운 값을 추가\n",
    "dict1['piano'] = '피아노'\n",
    "dict1"
   ]
  },
  {
   "cell_type": "code",
   "execution_count": 74,
   "metadata": {},
   "outputs": [
    {
     "data": {
      "text/plain": [
       "({'drum': '드럼', 'guitar': '기타', 'bass': '베이스'}, True)"
      ]
     },
     "execution_count": 74,
     "metadata": {},
     "output_type": "execute_result"
    }
   ],
   "source": [
    "# 딕셔너리도 삭제 연산자 del과 멤버십 연산자 in/not in 활용 가능\n",
    "del dict1['piano']\n",
    "dict1, 'bass' in dict1"
   ]
  },
  {
   "cell_type": "code",
   "execution_count": 75,
   "metadata": {},
   "outputs": [
    {
     "data": {
      "text/plain": [
       "True"
      ]
     },
     "execution_count": 75,
     "metadata": {},
     "output_type": "execute_result"
    }
   ],
   "source": [
    "# 매핑값이 존재하는지 확인하기 위해서는 values() 메서드 활용해야\n",
    "# items() 메서드 활용해 키와 값 둘 다 가능 → 순회형에서 활용 가능\n",
    "'베이스' in dict1.values()"
   ]
  },
  {
   "cell_type": "code",
   "execution_count": 76,
   "metadata": {},
   "outputs": [
    {
     "data": {
      "text/plain": [
       "{'drum': None, 'guitar': None, 'bass': None}"
      ]
     },
     "execution_count": 76,
     "metadata": {},
     "output_type": "execute_result"
    }
   ],
   "source": [
    "# copy() 메서드를 통해 딕셔너리도 복사 가능\n",
    "# dict.fromkeys(iterable[, 매핑값]) 클래스 메서드 활용하여 딕셔너리의 키 생성 가능\n",
    "dict2 = dict.fromkeys(['drum', 'guitar', 'bass'])\n",
    "dict2"
   ]
  },
  {
   "cell_type": "code",
   "execution_count": 78,
   "metadata": {},
   "outputs": [
    {
     "data": {
      "text/plain": [
       "'피아노'"
      ]
     },
     "execution_count": 78,
     "metadata": {},
     "output_type": "execute_result"
    }
   ],
   "source": [
    "# setdefault(키, 값)와 update() 메서드 활용하여 객체 추가 가능\n",
    "# setdefault()는 추가된 매핑값을 반환, 만약 객체 키가 이미 존재하면 해당 키의 기존 매핑값 반환\n",
    "dict2.setdefault('piano', '피아노')"
   ]
  },
  {
   "cell_type": "code",
   "execution_count": 79,
   "metadata": {},
   "outputs": [
    {
     "data": {
      "text/plain": [
       "{'drum': None,\n",
       " 'guitar': None,\n",
       " 'bass': None,\n",
       " 'piano': '피아노',\n",
       " 'violin': '바이올린',\n",
       " 'triangle': '트라이앵글'}"
      ]
     },
     "execution_count": 79,
     "metadata": {},
     "output_type": "execute_result"
    }
   ],
   "source": [
    "# update()는 키워드 전달인자 혹은 순회형을 사용해서 한꺼번에 여러 객체 추가 가능\n",
    "# update() 메서드는 키가 이미 존재하는 경우 기존 매핑값을 새로운 매핑값으로 교체\n",
    "dict2.update([('violin', '바이올린'), ('triangle', '트라이앵글')])\n",
    "dict2"
   ]
  },
  {
   "cell_type": "code",
   "execution_count": 80,
   "metadata": {},
   "outputs": [
    {
     "data": {
      "text/plain": [
       "({'drum': None,\n",
       "  'guitar': None,\n",
       "  'bass': None,\n",
       "  'piano': '피아노',\n",
       "  'violin': '바이올린'},\n",
       " '트라이앵글')"
      ]
     },
     "execution_count": 80,
     "metadata": {},
     "output_type": "execute_result"
    }
   ],
   "source": [
    "# pop(키) 메서드를 통해 삭제도 가능 → 매핑값을 반환\n",
    "del_key = dict2.pop('triangle')\n",
    "dict2, del_key"
   ]
  },
  {
   "cell_type": "code",
   "execution_count": 81,
   "metadata": {},
   "outputs": [
    {
     "data": {
      "text/plain": [
       "({'drum': None,\n",
       "  'guitar': None,\n",
       "  'bass': None,\n",
       "  'piano': '피아노',\n",
       "  'violin': '바이올린'},\n",
       " '미삭제')"
      ]
     },
     "execution_count": 81,
     "metadata": {},
     "output_type": "execute_result"
    }
   ],
   "source": [
    "# pop() 메서드에서 삭제하려는 키가 미존재하는 경우 지정한 매핑값을 반환 → 실제로 삭제는 안됨\n",
    "pop_practice = dict2.pop('triangle', '미삭제')\n",
    "dict2, pop_practice"
   ]
  },
  {
   "cell_type": "code",
   "execution_count": 82,
   "metadata": {},
   "outputs": [
    {
     "data": {
      "text/plain": [
       "('피아노', '미존재')"
      ]
     },
     "execution_count": 82,
     "metadata": {},
     "output_type": "execute_result"
    }
   ],
   "source": [
    "# get(키, 값) 메서드는 지정한 키의 매핑값을 반환, 키가 존재하지 않은 경우 지정한 매핑값을 반환\n",
    "dict2.get('piano', '미존재'), dict2.get('triangle', '미존재')"
   ]
  },
  {
   "cell_type": "code",
   "execution_count": 86,
   "metadata": {},
   "outputs": [
    {
     "data": {
      "text/plain": [
       "{'간': 2, '장': 12, '공': 8, '은': 2, '이': 2, '고': 1, '다': 1}"
      ]
     },
     "execution_count": 86,
     "metadata": {},
     "output_type": "execute_result"
    }
   ],
   "source": [
    "word_counts = {}\n",
    "s = '간장공장공장장은 간공장장이고, 공장공장공장장은 공공장장이다'\n",
    "# 딕셔너리의 get() 메서드를 활용한 글자 수 카운트하기\n",
    "for count in s:\n",
    "    noise = string.whitespace + string.punctuation\n",
    "    if count in noise:\n",
    "        continue\n",
    "    word_counts[count] = word_counts.get(count, 0) + 1\n",
    "word_counts"
   ]
  },
  {
   "cell_type": "code",
   "execution_count": 87,
   "metadata": {},
   "outputs": [],
   "source": [
    "# 세트 관련 연산자 : in/not in, <, >, <=, >=, |, &, -, ^\n",
    "# issubset(), issuperset(), isdisjoint() 등 메서드를 통해 부분집합, 포함집합, 서로소집합 확인\n",
    "# union(), update(), intersection(), intersection_update() 등을 통해 합집합 및 교집합 설정\n",
    "# difference(), difference_update(), symmetric_difference(), symmetric_difference_update() 등을 통해 차집합 설정\n",
    "# add() 메서드를 통해 추가\n",
    "# pop()은 랜덤 삭제, remove(), discard()는 특정 객체 삭제 - discard()는 오류 메시지 미출력"
   ]
  },
  {
   "cell_type": "code",
   "execution_count": 95,
   "metadata": {},
   "outputs": [
    {
     "data": {
      "text/plain": [
       "([12, 40], [1, 4, 9, 16, 25])"
      ]
     },
     "execution_count": 95,
     "metadata": {},
     "output_type": "execute_result"
    }
   ],
   "source": [
    "# iterable(순회형)에 자주 사용하는 연산자 및 함수\n",
    "# len(x), min(x, key=abs/str.lower 등), reversed(x), sorted(x) 등\n",
    "# map(function, iterable) 함수 활용 가능\n",
    "list(map(lambda a, b: a*b, (3, 5), (4, 8))), list(map(lambda x: pow(x, 2), [1, 2, 3, 4, 5]))"
   ]
  },
  {
   "cell_type": "code",
   "execution_count": 98,
   "metadata": {},
   "outputs": [
    {
     "data": {
      "text/plain": [
       "False"
      ]
     },
     "execution_count": 98,
     "metadata": {},
     "output_type": "execute_result"
    }
   ],
   "source": [
    "# 비교 연산자 규칙은 서로 다른 객체를 발견할 때까지 순서대로 비교 → 서로 다른 객체를 발견하면 비교를 멈추고 결과 반환\n",
    "'abcdefg' < 'abcdedh'"
   ]
  },
  {
   "cell_type": "code",
   "execution_count": 100,
   "metadata": {},
   "outputs": [
    {
     "data": {
      "text/plain": [
       "'F'"
      ]
     },
     "execution_count": 100,
     "metadata": {},
     "output_type": "execute_result"
    }
   ],
   "source": [
    "# 간편 조건문\n",
    "score = 56\n",
    "grade = 'P' if score > 60 else 'F'\n",
    "grade"
   ]
  },
  {
   "cell_type": "code",
   "execution_count": 103,
   "metadata": {},
   "outputs": [
    {
     "name": "stdout",
     "output_type": "stream",
     "text": [
      "포도\n",
      "블루베리\n",
      "블루베리 선택 완료\n"
     ]
    }
   ],
   "source": [
    "# while문의 반복 횟수를 센티널(sentinal) 값이라고 지칭\n",
    "# while ~ else의 경우 while문이 정상적으로 종료되었다면 else문은 반드시 실행\n",
    "# 단 while문이 break, return문에 의해 종료되었거나 실행 도중 예외가 발생할 경우 else문 미실행\n",
    "fruits = ['사과', '딸기', '바나나', '블루베리', '포도']\n",
    "# 센티널 변수 초기화\n",
    "fruit = ''\n",
    "while fruit != '블루베리':\n",
    "    fruit = random.choice(fruits)\n",
    "    print(fruit)\n",
    "else:\n",
    "    print(f'{fruit} 선택 완료')"
   ]
  },
  {
   "cell_type": "code",
   "execution_count": 105,
   "metadata": {},
   "outputs": [
    {
     "name": "stdout",
     "output_type": "stream",
     "text": [
      "\n",
      "1. 학생 추가\n",
      "2. 학생 삭제\n",
      "3. 학생 목록 보기\n",
      "4. 종료\n",
      "\n",
      "4번 메뉴 선택\n",
      "프로그램 종료.\n"
     ]
    }
   ],
   "source": [
    "# for문에 비해 while문을 사용하는게 좋은 경우 : 사용자에게 계속 입력 요구할 때\n",
    "menu = '''\n",
    "1. 학생 추가\n",
    "2. 학생 삭제\n",
    "3. 학생 목록 보기\n",
    "4. 종료\n",
    "'''\n",
    "number = 0\n",
    "while number != 4:\n",
    "    print(menu)\n",
    "    number = int(input('메뉴 입력: '))\n",
    "    if number in [1, 2, 3, 4]:\n",
    "        print(f'{number}번 메뉴 선택')\n",
    "    else:\n",
    "        print(f'{number}는 없는 번호입니다.')\n",
    "else:\n",
    "    print('프로그램 종료.')"
   ]
  },
  {
   "cell_type": "code",
   "execution_count": 107,
   "metadata": {},
   "outputs": [
    {
     "data": {
      "text/plain": [
       "{1: '사과', 2: '딸기', 3: '바나나', 4: '블루베리', 5: '포도'}"
      ]
     },
     "execution_count": 107,
     "metadata": {},
     "output_type": "execute_result"
    }
   ],
   "source": [
    "# enumerate(iterable, start=0) 함수의 경우 선택파라미터로 start 존재 → start에 시작번호 지정 가능\n",
    "enu_dict = dict(enumerate(fruits, 1))\n",
    "enu_dict"
   ]
  },
  {
   "cell_type": "code",
   "execution_count": 110,
   "metadata": {},
   "outputs": [
    {
     "data": {
      "text/plain": [
       "([('엄마', '드럼'), ('아빠', '베이스'), ('나', '기타')],\n",
       " ('엄마', '아빠', '나'),\n",
       " ('드럼', '베이스', '기타'))"
      ]
     },
     "execution_count": 110,
     "metadata": {},
     "output_type": "execute_result"
    }
   ],
   "source": [
    "# zip() 함수의 경우 시퀀스형 언패킹 연산자 * 활용하여 unzip하는 것도 가능\n",
    "x = ('엄마', '아빠', '나')\n",
    "y = ('드럼', '베이스', '기타')\n",
    "musicians = list(zip(x, y))\n",
    "member, instrument = zip(*musicians)\n",
    "musicians, member, instrument"
   ]
  },
  {
   "cell_type": "code",
   "execution_count": 113,
   "metadata": {},
   "outputs": [
    {
     "name": "stdout",
     "output_type": "stream",
     "text": [
      "문제 발생: division by zero\n"
     ]
    }
   ],
   "source": [
    "# 예외처리는 try ~ except ~ else ~ finally로 연결\n",
    "# except 문에서 선택사항으로 'as 변수' 지정 가능 → 변수 하나로 참조 가능\n",
    "try:\n",
    "    15 / 0\n",
    "except Exception as err:\n",
    "    print('문제 발생:', err)"
   ]
  },
  {
   "cell_type": "code",
   "execution_count": 114,
   "metadata": {},
   "outputs": [],
   "source": [
    "# 그냥 통과시켜야 할 경우 except문에 pass문을 추가하면 가능\n",
    "try:\n",
    "    15 / 0\n",
    "except Exception as err:\n",
    "    pass"
   ]
  },
  {
   "cell_type": "code",
   "execution_count": null,
   "metadata": {},
   "outputs": [],
   "source": []
  }
 ],
 "metadata": {
  "kernelspec": {
   "display_name": "Python 3.9.12 ('base')",
   "language": "python",
   "name": "python3"
  },
  "language_info": {
   "codemirror_mode": {
    "name": "ipython",
    "version": 3
   },
   "file_extension": ".py",
   "mimetype": "text/x-python",
   "name": "python",
   "nbconvert_exporter": "python",
   "pygments_lexer": "ipython3",
   "version": "3.9.12"
  },
  "orig_nbformat": 4,
  "vscode": {
   "interpreter": {
    "hash": "610a6f344c2137faf927ea819c63f6cee33a2c04455044b28099f39fe9722347"
   }
  }
 },
 "nbformat": 4,
 "nbformat_minor": 2
}

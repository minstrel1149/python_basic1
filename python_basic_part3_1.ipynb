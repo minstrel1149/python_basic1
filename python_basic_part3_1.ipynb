{
 "cells": [
  {
   "cell_type": "code",
   "execution_count": 1,
   "metadata": {},
   "outputs": [],
   "source": [
    "import random"
   ]
  },
  {
   "cell_type": "code",
   "execution_count": 2,
   "metadata": {},
   "outputs": [
    {
     "data": {
      "text/plain": [
       "120"
      ]
     },
     "execution_count": 2,
     "metadata": {},
     "output_type": "execute_result"
    }
   ],
   "source": [
    "# 함수의 목적 : 코드 재사용, 추상화, 모듈화\n",
    "# 값 반환 함수 및 보이드 함수의 차이 : ex. print()는 보이드 함수\n",
    "# 함수가 반환한 값을 다른 함수의 전달인자로 활용 가능 → 중첩 함수(nested function) 호출\n",
    "# 함수가 자기 자신을 호출하는 재귀 함수(recursion function)도 존재 → factorial이 대표적\n",
    "def factorial(n):\n",
    "    if n == 0:\n",
    "        return 1\n",
    "    else:\n",
    "        return n * factorial(n-1)\n",
    "factorial(5)"
   ]
  },
  {
   "cell_type": "code",
   "execution_count": 4,
   "metadata": {},
   "outputs": [
    {
     "name": "stdout",
     "output_type": "stream",
     "text": [
      "옷장: 22번 진열대에 배치하세요.\n"
     ]
    }
   ],
   "source": [
    "# 전역 함수(global function)는 같은 모듈 안 어디서든 활용 가능\n",
    "# 지역 함수(local function)는 어떤 함수 안에서 정의된 함수 → 내재 함수\n",
    "def display_stand(product):\n",
    "    def display_num():\n",
    "        return random.randint(1, 99)\n",
    "    print(f'{product}: {display_num()}번 진열대에 배치하세요.')\n",
    "display_stand('옷장')"
   ]
  },
  {
   "cell_type": "code",
   "execution_count": 6,
   "metadata": {},
   "outputs": [
    {
     "name": "stdout",
     "output_type": "stream",
     "text": [
      "2 files processed.\n"
     ]
    }
   ],
   "source": [
    "# 람다식(lambda [파라미터]: 표현식)의 제약\n",
    "# → return/yield 문 활용 불가, 조건문이나 순환문 사용 불가(간편 조건문은 가능), 튜플은 반드시 괄호 안에\n",
    "tf_s = lambda count: '' if count == 1 else 's'\n",
    "count = 2\n",
    "print(f'{count} file{tf_s(count)} processed.')"
   ]
  },
  {
   "cell_type": "code",
   "execution_count": 7,
   "metadata": {},
   "outputs": [],
   "source": [
    "# 메서드는 클래스를 명시하여야하는 경우와 클래스의 인스턴스를 명시하여야 하는 경우로 구분"
   ]
  },
  {
   "cell_type": "code",
   "execution_count": 11,
   "metadata": {},
   "outputs": [
    {
     "data": {
      "text/plain": [
       "15"
      ]
     },
     "execution_count": 11,
     "metadata": {},
     "output_type": "execute_result"
    }
   ],
   "source": [
    "# 함수 작성 시 반환 값 없이 return만 명시할 경우 함수를 빠져나갈 때 사용\n",
    "def positive_product(i, j):\n",
    "    if i < 0 or j < 0:\n",
    "        return\n",
    "    return i * j\n",
    "positive_product(3, 5)"
   ]
  },
  {
   "cell_type": "code",
   "execution_count": 12,
   "metadata": {},
   "outputs": [
    {
     "name": "stdout",
     "output_type": "stream",
     "text": [
      "30mile 거리를 60분에 가려면 시속 30mile/h로 가야 합니다.\n"
     ]
    }
   ],
   "source": [
    "# 함수를 정의할 때 모든 위치 파라미터를 키워드 파라미터보다 먼저 선언해야\n",
    "# 함수를 사용할 때도 모든 위치 전달인자를 키워드 전달인자보다 먼저 사용해야\n",
    "# * 연산자를 활용하여 * 뒤에는 무조건 키워드 전달인자가 오도록 지정 가능\n",
    "# * 연산자가 처음에 위치한다면 무조건 키워드 전달인자만 와야\n",
    "def speed_to_dest(distance, minutes=60, *, unit='km'):\n",
    "    speed = round(distance * 60 / minutes)\n",
    "    print(f'{distance}{unit} 거리를 {minutes}분에 가려면 시속 {speed}{unit}/h로 가야 합니다.')\n",
    "speed_to_dest(30, 60, unit='mile')"
   ]
  },
  {
   "cell_type": "code",
   "execution_count": 16,
   "metadata": {},
   "outputs": [
    {
     "data": {
      "text/plain": [
       "6"
      ]
     },
     "execution_count": 16,
     "metadata": {},
     "output_type": "execute_result"
    }
   ],
   "source": [
    "# 함수를 정의할 때 * 연산자를 파라미터 앞에 두면 시퀀스형 패킹 연산자로 활용 가능\n",
    "# * 연산자를 전달인자에서 활용할 때는 시퀀스형 언패킹 연산자로 활용 가능\n",
    "def sum_num(*numbers):\n",
    "    result = 0\n",
    "    for number in numbers:\n",
    "        result += number\n",
    "    return result\n",
    "sum_num(1, 2, 3)"
   ]
  },
  {
   "cell_type": "code",
   "execution_count": 18,
   "metadata": {},
   "outputs": [
    {
     "name": "stdout",
     "output_type": "stream",
     "text": [
      "위치전달인자 0 : 라이언\n",
      "위치전달인자 1 : -7\n",
      "키워드 전달인자 age : 19\n",
      "키워드 전달인자 email : ryan@korea.kr\n"
     ]
    }
   ],
   "source": [
    "# 함수를 정의할 때 ** 연산자를 파라미터 앞에 두면 매핑형 패킹 연산자로 활용 가능\n",
    "# ** 연산자를 전달인자에서 활용할 때는 매핑형 언패킹 연산자로 활용 가능\n",
    "def print_args(*args, **kwargs):\n",
    "    for i, arg in enumerate(args):\n",
    "        print(f'위치전달인자 {i} : {arg}')\n",
    "    for key in kwargs:\n",
    "        print(f'키워드 전달인자 {key} : {kwargs[key]}')\n",
    "print_args('라이언', -7, age=19, email='ryan@korea.kr')"
   ]
  },
  {
   "cell_type": "code",
   "execution_count": 19,
   "metadata": {},
   "outputs": [],
   "source": [
    "# 범위란 변수나 함수의 가시성 → 가시성이란 변수나 함수에 합법적으로 접근할 수 있는 프로그램 영역\n",
    "# global문 및 nonlocal문을 활용하여 변수의 범위를 변경 가능"
   ]
  },
  {
   "cell_type": "code",
   "execution_count": 20,
   "metadata": {},
   "outputs": [],
   "source": [
    "# 객체지향 프로그래밍 언어 핵심 개념 : 추상화, 캡슐화, 클래스의 계층 구조, 다형성\n",
    "# 추상화는 특정 객체의 본질적인 특성을 이용해서 정의 → 속성과 행위\n",
    "# 클래스의 계층 구조는 상속 관계와 부분-전체 관계\n",
    "# 상속 관계는 하위 클래스(subclass)와 상위 클래스(superclass)의 수직 관계를 의미\n",
    "# 다형성은 서로 다른 클래스 객체면 같은 이름 메서드를 사용하더라도 각기 다른 방식으로 응답\n",
    "# 클래스는 같은 종류 집단에 속하는 객체들의 속성(attribute)과 행동(behavior)을 정의\n",
    "# 객체는 클래스의 인스턴스(instance) → 객체의 행동은 메서드로 구현"
   ]
  },
  {
   "cell_type": "code",
   "execution_count": 59,
   "metadata": {},
   "outputs": [
    {
     "data": {
      "text/plain": [
       "('느티나무 카페', 9500, 3, '네오', 1)"
      ]
     },
     "execution_count": 59,
     "metadata": {},
     "output_type": "execute_result"
    }
   ],
   "source": [
    "# 개별 인스턴스가 고유한 값을 가져야 할 때 사용하는 속성이 인스턴스 속성\n",
    "# 인스턴스 속성은 클래스의 인스턴스를 생성하는 시점에 만들기 때문에 주로 초기화 메서드 안에서 정의\n",
    "class PartTimer:\n",
    "    human = 0\n",
    "    def __init__(self, name):\n",
    "        # 클래스 속성\n",
    "        PartTimer.cafe_name = '느티나무 카페'\n",
    "        PartTimer.hour_rate = 9500\n",
    "        PartTimer.human += 1\n",
    "        # 인스턴스 속성 및 네임 맹글링(name mangling) 활용\n",
    "        self.__whours = 0\n",
    "        self.nickname = name\n",
    "    def whours(self, hours_worked=0):\n",
    "        self.__whours += hours_worked\n",
    "        return self.__whours\n",
    "    def total_wage(self):\n",
    "        return self.__whours * PartTimer.hour_rate\n",
    "lee = PartTimer('네오')\n",
    "lee.cafe_name, lee.hour_rate, lee.whours(3), lee.nickname, lee.human"
   ]
  },
  {
   "cell_type": "code",
   "execution_count": 60,
   "metadata": {},
   "outputs": [
    {
     "data": {
      "text/plain": [
       "('느티나무 카페', 9500, 2, '프로도', 2)"
      ]
     },
     "execution_count": 60,
     "metadata": {},
     "output_type": "execute_result"
    }
   ],
   "source": [
    "park = PartTimer('프로도')\n",
    "park.cafe_name, park.hour_rate, park.whours(2), park.nickname, park.human"
   ]
  },
  {
   "cell_type": "code",
   "execution_count": 65,
   "metadata": {},
   "outputs": [
    {
     "name": "stdout",
     "output_type": "stream",
     "text": [
      "['네오']\n",
      "['네오', '프로도']\n",
      "['네오', '프로도']\n"
     ]
    }
   ],
   "source": [
    "# 클래스 상속\n",
    "class ChiefPartTimer(PartTimer):\n",
    "    def __init__(self, name):\n",
    "        # 상위 클래스의 초기화 메서드 호출\n",
    "        super().__init__(name)\n",
    "        self.__workers = []\n",
    "    def add_worker(self, other):\n",
    "        if isinstance(other, PartTimer):\n",
    "            self.__workers.append(other.nickname)\n",
    "            print(self.__workers)\n",
    "        else:\n",
    "            print(f'{PartTimer.__name__}의 인스턴스가 아닙니다.')\n",
    "    def show_workers(self):\n",
    "        print(self.__workers)\n",
    "kim = ChiefPartTimer('라이언')\n",
    "lee = PartTimer('네오')\n",
    "park = PartTimer('프로도')\n",
    "kim.add_worker(lee)\n",
    "kim.add_worker(park)\n",
    "kim.show_workers()"
   ]
  },
  {
   "cell_type": "code",
   "execution_count": null,
   "metadata": {},
   "outputs": [],
   "source": [
    "# 파이썬은 다중 상속을 지원 → 여러 클래스의 속성과 메서드를 상속받아 재사용 가능"
   ]
  }
 ],
 "metadata": {
  "kernelspec": {
   "display_name": "Python 3.9.12 ('base')",
   "language": "python",
   "name": "python3"
  },
  "language_info": {
   "codemirror_mode": {
    "name": "ipython",
    "version": 3
   },
   "file_extension": ".py",
   "mimetype": "text/x-python",
   "name": "python",
   "nbconvert_exporter": "python",
   "pygments_lexer": "ipython3",
   "version": "3.9.12"
  },
  "orig_nbformat": 4,
  "vscode": {
   "interpreter": {
    "hash": "610a6f344c2137faf927ea819c63f6cee33a2c04455044b28099f39fe9722347"
   }
  }
 },
 "nbformat": 4,
 "nbformat_minor": 2
}
